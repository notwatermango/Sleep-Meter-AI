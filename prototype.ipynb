{
 "cells": [
  {
   "cell_type": "code",
   "execution_count": 10,
   "id": "68794022",
   "metadata": {},
   "outputs": [],
   "source": [
    "import cv2\n",
    "import dlib\n",
    "import winsound\n",
    "from scipy.spatial import distance"
   ]
  },
  {
   "cell_type": "code",
   "execution_count": 11,
   "id": "1ae3adc3",
   "metadata": {},
   "outputs": [],
   "source": [
    "PATH_SOUND = \"assets\\\\beep-01a\"\n",
    "PATH_FACELANDMARK = \"assets\\\\shape_predictor_68_face_landmarks.dat\"\n",
    "CATCH_INTERVAL_ITER = 10\n",
    "iteration = 0"
   ]
  },
  {
   "cell_type": "code",
   "execution_count": 12,
   "id": "43345a40",
   "metadata": {},
   "outputs": [],
   "source": [
    "def beep():\n",
    "    winsound.PlaySound(PATH_SOUND, winsound.SND_FILENAME | winsound.SND_ASYNC)\n",
    "    \n",
    "def warn():\n",
    "    cv2.putText(frame, \"Buka mata anda\", (50, 400), cv2.FONT_HERSHEY_COMPLEX, 1, (0, 255, 100), 3)\n",
    "    cv2.putText(frame, \"Rawan Mengantuk\", (50, 450), cv2.FONT_HERSHEY_COMPLEX, 1, (0, 255, 0), 3)\n",
    "    if iteration == 0 : beep()\n",
    "        \n",
    "\n",
    "def show_verbose(ct, eye_ratio):\n",
    "    cv2.putText(frame, str(ct), (50, 100), cv2.FONT_HERSHEY_COMPLEX, 1, (51, 56, 255), 3)\n",
    "    cv2.putText(frame, str(eye_ratio), (100, 100), cv2.FONT_HERSHEY_COMPLEX, 1, (21, 56, 255), 3)"
   ]
  },
  {
   "cell_type": "code",
   "execution_count": 13,
   "id": "09268155",
   "metadata": {},
   "outputs": [],
   "source": [
    "def get_eye_ratio(eye):\n",
    "    x = distance.euclidean(eye[2], eye[4]) # P3 P5\n",
    "    y = distance.euclidean(eye[1], eye[5]) # P2 P6\n",
    "    z = distance.euclidean(eye[0], eye[3]) # P1 P4\n",
    "    aspect_ratio_eye = (x + y) / (2 * z)\n",
    "    return aspect_ratio_eye\n",
    "\n",
    "def left_eye_to_frame(face_landmarks):\n",
    "    left_eye = []\n",
    "    for i in range(36, 42):\n",
    "        x = face_landmarks.part(i).x\n",
    "        y = face_landmarks.part(i).y\n",
    "        left_eye.append((x, y))\n",
    "        next_i = i + 1\n",
    "        if i == 41: next_i = 36 \n",
    "        next_x = face_landmarks.part(next_i).x\n",
    "        next_y = face_landmarks.part(next_i).y\n",
    "        cv2.line(frame, (x, y), (next_x, next_y), (0, 255, 255), 1)\n",
    "    return left_eye\n",
    "\n",
    "def right_eye_to_frame(face_landmarks):\n",
    "    right_eye = []\n",
    "    for i in range(42, 48):\n",
    "        x = face_landmarks.part(i).x\n",
    "        y = face_landmarks.part(i).y\n",
    "        right_eye.append((x, y))\n",
    "        next_i = i + 1\n",
    "        if i == 47: next_i = 42 \n",
    "        next_x = face_landmarks.part(next_i).x\n",
    "        next_y = face_landmarks.part(next_i).y\n",
    "        cv2.line(frame, (x, y), (next_x, next_y), (0, 255, 255), 1)\n",
    "    return right_eye\n",
    "    "
   ]
  },
  {
   "cell_type": "code",
   "execution_count": 14,
   "id": "afa2cb51",
   "metadata": {},
   "outputs": [],
   "source": [
    "cap = cv2.VideoCapture(0)\n",
    "\n",
    "face_detector = dlib.get_frontal_face_detector()\n",
    "\n",
    "face_predictor = dlib.shape_predictor(PATH_FACELANDMARK)\n",
    "\n",
    "ct = 0\n",
    "while True:\n",
    "    iteration += 1\n",
    "    ret, frame = cap.read()\n",
    "    gsc = cv2.cvtColor(frame, cv2.COLOR_BGR2GRAY)\n",
    "\n",
    "    faces = face_detector(gsc)\n",
    "    if not faces: \n",
    "        cv2.putText(frame, \"Wajah tidak terdeteksi\", (50, 400), cv2.FONT_HERSHEY_COMPLEX, 1, (0, 255, 100), 3)\n",
    "    for face in faces:\n",
    "        face_landmarks = face_predictor(gsc, face)\n",
    "        right_eye = right_eye_to_frame(face_landmarks)\n",
    "        left_eye = left_eye_to_frame(face_landmarks)\n",
    "        \n",
    "    right_eye_ratio = get_eye_ratio(right_eye)\n",
    "    left_eye_ratio = get_eye_ratio(left_eye)\n",
    "    eye_ratio = round((left_eye_ratio + right_eye_ratio) / 2, 2)\n",
    "    show_verbose(ct, eye_ratio)\n",
    "    \n",
    "    if iteration == CATCH_INTERVAL_ITER:\n",
    "        iteration = 0\n",
    "        if eye_ratio > 0.25: ct -= 1\n",
    "        else: ct += 1\n",
    "        ct = max(ct, 0)\n",
    "    if ct > 5:\n",
    "        warn()\n",
    "        \n",
    "    cv2.imshow(\"prototype\", frame)\n",
    "    key = cv2.waitKey(1)\n",
    "    if key == ord('e'): break\n",
    "        \n",
    "cap.release()\n",
    "cv2.destroyAllWindows()\n"
   ]
  },
  {
   "cell_type": "code",
   "execution_count": null,
   "id": "1b4d7bf0",
   "metadata": {},
   "outputs": [],
   "source": []
  },
  {
   "cell_type": "code",
   "execution_count": null,
   "id": "2fe94189",
   "metadata": {},
   "outputs": [],
   "source": []
  }
 ],
 "metadata": {
  "interpreter": {
   "hash": "ad2bdc8ecc057115af97d19610ffacc2b4e99fae6737bb82f5d7fb13d2f2c186"
  },
  "kernelspec": {
   "display_name": "Python 3.9.7 ('base')",
   "language": "python",
   "name": "python3"
  },
  "language_info": {
   "codemirror_mode": {
    "name": "ipython",
    "version": 3
   },
   "file_extension": ".py",
   "mimetype": "text/x-python",
   "name": "python",
   "nbconvert_exporter": "python",
   "pygments_lexer": "ipython3",
   "version": "3.9.7"
  }
 },
 "nbformat": 4,
 "nbformat_minor": 5
}
